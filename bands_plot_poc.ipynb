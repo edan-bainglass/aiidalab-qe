{
 "cells": [
  {
   "cell_type": "code",
   "execution_count": 11,
   "metadata": {},
   "outputs": [],
   "source": [
    "import ipywidgets as ipw\n",
    "import traitlets as tl"
   ]
  },
  {
   "cell_type": "code",
   "execution_count": 12,
   "metadata": {},
   "outputs": [],
   "source": [
    "import numpy as np\n",
    "import plotly.graph_objects as go\n",
    "\n",
    "\n",
    "class Helper:\n",
    "    def init(self):\n",
    "        self.plot = go.FigureWidget()\n",
    "        self.plot.add_scatter(y=[2, 1, 4, 3])\n",
    "\n",
    "\n",
    "class Model(tl.HasTraits):\n",
    "    seed = tl.Int(0)\n",
    "\n",
    "    def __init__(self, *args, **kwargs):\n",
    "        super().__init__(*args, **kwargs)\n",
    "\n",
    "        self._helper = Helper()\n",
    "        self._helper.init()\n",
    "\n",
    "    @property\n",
    "    def plot(self):\n",
    "        return self._helper.plot\n",
    "\n",
    "    def update_plot(self):\n",
    "        np.random.seed(self.seed)\n",
    "        self._helper.plot.data[0].y = np.random.rand(len(self.plot.data[0].y))"
   ]
  },
  {
   "cell_type": "code",
   "execution_count": 13,
   "metadata": {},
   "outputs": [],
   "source": [
    "class ViewController(ipw.VBox):\n",
    "    \"\"\"\"\"\"\n",
    "\n",
    "    def __init__(self, model: Model, **kwargs):\n",
    "        super().__init__(**kwargs)\n",
    "\n",
    "        self._model = model\n",
    "\n",
    "        slider = ipw.IntSlider(description=\"Seed\")\n",
    "        tl.link(\n",
    "            (model, \"seed\"),\n",
    "            (slider, \"value\"),\n",
    "        )\n",
    "        slider.observe(\n",
    "            self.on_seed_change,\n",
    "            \"value\",\n",
    "        )\n",
    "\n",
    "        self.children = [model.plot, slider]\n",
    "\n",
    "    def on_seed_change(self, _):\n",
    "        self._model.update_plot()"
   ]
  },
  {
   "cell_type": "code",
   "execution_count": 18,
   "metadata": {},
   "outputs": [],
   "source": [
    "model = Model()\n",
    "vc = ViewController(model)"
   ]
  },
  {
   "cell_type": "code",
   "execution_count": 19,
   "metadata": {},
   "outputs": [
    {
     "data": {
      "application/vnd.jupyter.widget-view+json": {
       "model_id": "ac3102bd7834466a9aa996c7b15a4b8d",
       "version_major": 2,
       "version_minor": 0
      },
      "text/plain": [
       "ViewController(children=(FigureWidget({\n",
       "    'data': [{'type': 'scatter', 'uid': '8db32a44-ee27-4e6a-9923-c2d62…"
      ]
     },
     "metadata": {},
     "output_type": "display_data"
    }
   ],
   "source": [
    "vc"
   ]
  },
  {
   "cell_type": "code",
   "execution_count": null,
   "metadata": {},
   "outputs": [],
   "source": []
  }
 ],
 "metadata": {
  "kernelspec": {
   "display_name": "base",
   "language": "python",
   "name": "python3"
  },
  "language_info": {
   "codemirror_mode": {
    "name": "ipython",
    "version": 3
   },
   "file_extension": ".py",
   "mimetype": "text/x-python",
   "name": "python",
   "nbconvert_exporter": "python",
   "pygments_lexer": "ipython3",
   "version": "3.9.13"
  }
 },
 "nbformat": 4,
 "nbformat_minor": 2
}
