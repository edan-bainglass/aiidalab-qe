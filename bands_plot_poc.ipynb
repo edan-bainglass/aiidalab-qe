{
 "cells": [
  {
   "cell_type": "code",
   "execution_count": null,
   "metadata": {},
   "outputs": [],
   "source": [
    "import ipywidgets as ipw\n",
    "import traitlets as tl"
   ]
  },
  {
   "cell_type": "code",
   "execution_count": null,
   "metadata": {},
   "outputs": [],
   "source": [
    "import numpy as np\n",
    "import plotly.graph_objects as go\n",
    "\n",
    "\n",
    "class Model(tl.HasTraits):\n",
    "    plot = tl.Instance(go.FigureWidget, allow_none=True)\n",
    "\n",
    "    seed = tl.Int(0)\n",
    "\n",
    "    def __init__(self, *args, **kwargs):\n",
    "        super().__init__(*args, **kwargs)\n",
    "        self.plot = go.FigureWidget()\n",
    "\n",
    "        self._init_plot()\n",
    "\n",
    "    def _init_plot(self):\n",
    "        self.plot.add_scatter(y=[2, 1, 4, 3])\n",
    "\n",
    "    def update_plot(self):\n",
    "        np.random.seed(self.seed)\n",
    "\n",
    "        self.plot.data[0].y = np.random.rand(len(self.plot.data[0].y))"
   ]
  },
  {
   "cell_type": "code",
   "execution_count": null,
   "metadata": {},
   "outputs": [],
   "source": [
    "class View(ipw.VBox):\n",
    "    \"\"\"\"\"\"\n",
    "\n",
    "    def __init__(self, model: Model, **kwargs):\n",
    "        super().__init__(**kwargs)\n",
    "\n",
    "        self._model = model\n",
    "\n",
    "        slider = ipw.IntSlider(description=\"Seed\")\n",
    "        tl.link(\n",
    "            (model, \"seed\"),\n",
    "            (slider, \"value\"),\n",
    "        )\n",
    "        slider.observe(\n",
    "            self.on_seed_change,\n",
    "            \"value\",\n",
    "        )\n",
    "\n",
    "        self.children = [model.plot, slider]\n",
    "\n",
    "    def on_seed_change(self, _):\n",
    "        self._model.update_plot()"
   ]
  },
  {
   "cell_type": "code",
   "execution_count": null,
   "metadata": {},
   "outputs": [],
   "source": [
    "model = Model()\n",
    "view = View(model)"
   ]
  },
  {
   "cell_type": "code",
   "execution_count": null,
   "metadata": {},
   "outputs": [],
   "source": [
    "view"
   ]
  }
 ],
 "metadata": {
  "kernelspec": {
   "display_name": "base",
   "language": "python",
   "name": "python3"
  },
  "language_info": {
   "name": "python",
   "version": "3.9.13"
  }
 },
 "nbformat": 4,
 "nbformat_minor": 2
}
